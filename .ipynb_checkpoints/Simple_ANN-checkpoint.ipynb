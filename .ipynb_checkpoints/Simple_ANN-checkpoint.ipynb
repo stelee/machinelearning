{
 "cells": [
  {
   "cell_type": "markdown",
   "metadata": {},
   "source": [
    "# A Simple Implementation Of Artificial Neural Network\n",
    "\n",
    "Some one said the best way to learn is to hack. Since I have started to learn Machine Learning for several months, I decided to do something more interesting, instead of to copy the code from book. Inspired from the following links:\n",
    "\n",
    "https://iamtrask.github.io/2015/07/27/python-network-part2/\n",
    "\n",
    "and(specially)\n",
    "\n",
    "https://medium.com/technology-invention-and-more/how-to-build-a-simple-neural-network-in-9-lines-of-python-code-cc8f23647ca1\n",
    "\n",
    "I think maybe it is not a bad idea to implement a simple ANN by myself, with less mathematics and more human understoodable way.\n",
    "\n",
    "## Make some import and prepare the training data and test data"
   ]
  },
  {
   "cell_type": "code",
   "execution_count": 41,
   "metadata": {
    "collapsed": true
   },
   "outputs": [],
   "source": [
    "import numpy as np\n",
    "X = np.array([\n",
    "    [0,1,0],\n",
    "    [0,0,1],\n",
    "    [1,0,0],\n",
    "    [1,1,0],\n",
    "    [0,1,1],\n",
    "    [1,0,1]\n",
    "])\n",
    "y = np.array([\n",
    "    [0],\n",
    "    [0],\n",
    "    [0],\n",
    "    [1],\n",
    "    [1],\n",
    "    [1]\n",
    "])"
   ]
  },
  {
   "cell_type": "markdown",
   "metadata": {},
   "source": [
    "The idea here is simple. Input will be a series of 0 and 1. For each input, if the number of *1* is bigger than *0*,  it will return *1*, else it will return *0*. It is very simple idea and even one layer of ANN can complete the job."
   ]
  },
  {
   "cell_type": "markdown",
   "metadata": {},
   "source": [
    "## Define the hypothetical and cost method\n",
    "\n",
    "The first step is to define the hypothetical method with weights as input. the weights is the measurement for each x element for input X and is also our goal to optimize. The hypothetical method is using sigmoid to do the prediction.\n",
    "\n",
    "$$h = 1/(1+ e^{-x})$$\n",
    "A mathimatics question, why sigmoid?\n",
    "\n",
    "Because it logically simulate the real word when we make the decision. And give enough spread when we are far from making the decision."
   ]
  },
  {
   "cell_type": "code",
   "execution_count": 25,
   "metadata": {
    "collapsed": true
   },
   "outputs": [],
   "source": [
    "def h(weights):\n",
    "    return 1/(1+np.exp(-X.dot(weights)))"
   ]
  },
  {
   "cell_type": "markdown",
   "metadata": {},
   "source": [
    "Now it is time to define the cost method. The goal for optimize the weights is to make the return value of cost value as small as possible. \n",
    "So far the code is very similar as regular classification. Actually, it is a regular classification.\n",
    "\n",
    "$$cost=\\sum(y' - y)^2$$"
   ]
  },
  {
   "cell_type": "code",
   "execution_count": 26,
   "metadata": {
    "collapsed": true
   },
   "outputs": [],
   "source": [
    "def cost(weights):\n",
    "    return np.sum(np.square(h(weights) - y))"
   ]
  },
  {
   "cell_type": "markdown",
   "metadata": {},
   "source": [
    "Why square? Mmm... it is just make the difference more obvious."
   ]
  },
  {
   "cell_type": "markdown",
   "metadata": {},
   "source": [
    "## Gradient Descend with no math\n",
    "\n",
    "There are a lot of way to do the gradient decend to get the optima. Some of them are related with mathmatics. For example, for sigmoid prediction, you can use derivative formula:\n",
    "\n",
    "$$\\frac{d\\sigma (x)}{d(x)} = \\sigma (x)\\cdot (1-\\sigma(x)).$$\n",
    "\n",
    "But I am going to try something simpler for the reason:\n",
    "\n",
    "* there are still a lot of scenarios when a simple formula can't match to get the derivative\n",
    "* I want to make this artical more interesting"
   ]
  },
  {
   "cell_type": "code",
   "execution_count": 27,
   "metadata": {
    "collapsed": true
   },
   "outputs": [],
   "source": [
    "def diff_for_each(weights, index):\n",
    "    small_value_change = 0.001\n",
    "    new_weights = np.copy(weights) # this is import, not to change the original weights\n",
    "    new_weights[index, 0] = new_weights[index, 0] + small_value_change;\n",
    "    return (cost(new_weights) -  cost(weights))/small_value_change\n",
    "\n",
    "def diff(weights):\n",
    "    return np.array([ diff_for_each(weights, index) for index, _ in enumerate(weights)]).reshape(-1,1)"
   ]
  },
  {
   "cell_type": "markdown",
   "metadata": {},
   "source": [
    "The *diff* method will be used to caculate the difference matrix when one single weight is changed in the weights matrix.\n",
    "\n",
    "Now we can start to train our single layer ANN network:"
   ]
  },
  {
   "cell_type": "code",
   "execution_count": 42,
   "metadata": {},
   "outputs": [],
   "source": [
    "steps = 10000\n",
    "np.random.seed(1)\n",
    "m, n = X.shape\n",
    "weights = 2 * np.random.random((4, 1)) - 1\n",
    "X = np.c_[np.ones((m,1)),X] #add bias"
   ]
  },
  {
   "cell_type": "code",
   "execution_count": 43,
   "metadata": {
    "collapsed": true
   },
   "outputs": [],
   "source": [
    "learning_rate = 1\n",
    "for i in range(steps):\n",
    "    weights = weights - diff(weights) * learning_rate"
   ]
  },
  {
   "cell_type": "markdown",
   "metadata": {},
   "source": [
    "And we also need to create a predict method to give the prediction"
   ]
  },
  {
   "cell_type": "code",
   "execution_count": 44,
   "metadata": {},
   "outputs": [],
   "source": [
    "def predict(X):\n",
    "    return 1/(1+np.exp(-X.dot(weights)))"
   ]
  },
  {
   "cell_type": "markdown",
   "metadata": {},
   "source": [
    "First let's cross check our training data"
   ]
  },
  {
   "cell_type": "code",
   "execution_count": 45,
   "metadata": {},
   "outputs": [
    {
     "data": {
      "text/plain": [
       "array([[ 0.01019554],\n",
       "       [ 0.01019554],\n",
       "       [ 0.01019554],\n",
       "       [ 0.99116804],\n",
       "       [ 0.99116804],\n",
       "       [ 0.99116804]])"
      ]
     },
     "execution_count": 45,
     "metadata": {},
     "output_type": "execute_result"
    }
   ],
   "source": [
    "predict(X)"
   ]
  },
  {
   "cell_type": "markdown",
   "metadata": {},
   "source": [
    "It is nice, as for the first three input, the average rate to have output as 1 is 1%, which means the out put is 0 and the last three outputs have 99% chance to be 1!\n",
    "\n",
    "Let's try some test data\n",
    "[1,1,1] -> 1\n",
    "[0,0,0] -> 0"
   ]
  },
  {
   "cell_type": "code",
   "execution_count": 48,
   "metadata": {},
   "outputs": [
    {
     "data": {
      "text/plain": [
       "array([[ 0.99999918]])"
      ]
     },
     "execution_count": 48,
     "metadata": {},
     "output_type": "execute_result"
    }
   ],
   "source": [
    "predict(np.array([[1,1,1,1]])) # don't forget the first input will be a bias input and always be 1"
   ]
  },
  {
   "cell_type": "code",
   "execution_count": 49,
   "metadata": {},
   "outputs": [
    {
     "data": {
      "text/plain": [
       "array([[  9.45432964e-07]])"
      ]
     },
     "execution_count": 49,
     "metadata": {},
     "output_type": "execute_result"
    }
   ],
   "source": [
    "predict(np.array([[1,0,0,0]]))"
   ]
  },
  {
   "cell_type": "markdown",
   "metadata": {},
   "source": [
    "That is almost the end of the exploring of the single layer ANN. It is working, but not a workable file we can re-use. The following I will wrap this up in a class, do the training and plot the cost history"
   ]
  },
  {
   "cell_type": "code",
   "execution_count": 92,
   "metadata": {},
   "outputs": [],
   "source": [
    "import numpy as np\n",
    "\n",
    "class SingleLayerNN():\n",
    "    def __init__(self, training_steps = 1000, small_diff_value = 0.001, seed = 1, record_cost_history = False, learning_rate = 1):\n",
    "        self.training_steps = training_steps\n",
    "        self.small_diff_value =  small_diff_value\n",
    "        self.seed = seed\n",
    "        self.learning_rate = learning_rate\n",
    "        self.record_cost_history = record_cost_history\n",
    "        self.cost_history = []\n",
    "            \n",
    "    def __h(self,X, weights):\n",
    "        return 1/(1+np.exp(-X.dot(weights)))\n",
    "    \n",
    "    def __cost(self,weights):\n",
    "        return np.sum(np.square(self.__h(self.X_, weights) - y))\n",
    "    \n",
    "    def __diff_for_each(self,index):\n",
    "        new_weights = np.copy(self.weights_) # this is import, not to change the original weights\n",
    "        new_weights[index, 0] = new_weights[index, 0] + self.small_diff_value\n",
    "        return (self.__cost(new_weights) -  self.__cost(self.weights_))/self.small_diff_value\n",
    "\n",
    "    def __diff(self):\n",
    "        return np.array([ self.__diff_for_each(index) for index, _ in enumerate(self.weights_)]).reshape(-1,1)\n",
    "    \n",
    "    def fit(self,X, y):\n",
    "        m, n = X.shape\n",
    "        np.random.seed(self.seed)\n",
    "        self.weights_ = 2 * np.random.random((n+1, 1)) - 1\n",
    "        self.X_ = np.c_[np.ones((m,1)),X]\n",
    "        self.y_ = y\n",
    "        for i in range(self.training_steps):\n",
    "            self.weights_ = self.weights_ - self.__diff() * self.learning_rate\n",
    "            if self.record_cost_history:\n",
    "                self.cost_history.append(self.__cost(self.weights_))\n",
    "            \n",
    "    def predict(self,X):\n",
    "        m, _ = X.shape\n",
    "        X_to = np.c_[np.ones((m,1)),X]\n",
    "        return self.__h(X_to, self.weights_)"
   ]
  },
  {
   "cell_type": "code",
   "execution_count": 114,
   "metadata": {
    "collapsed": true
   },
   "outputs": [],
   "source": [
    "clf = SingleLayerNN(record_cost_history=True)"
   ]
  },
  {
   "cell_type": "code",
   "execution_count": 115,
   "metadata": {},
   "outputs": [],
   "source": [
    "X = np.array([\n",
    "    [0,1,0],\n",
    "    [0,0,1],\n",
    "    [1,0,0],\n",
    "    [1,1,0],\n",
    "    [0,1,1],\n",
    "    [1,0,1]\n",
    "])\n",
    "y = np.array([\n",
    "    [0],\n",
    "    [0],\n",
    "    [0],\n",
    "    [1],\n",
    "    [1],\n",
    "    [1]\n",
    "])"
   ]
  },
  {
   "cell_type": "code",
   "execution_count": 116,
   "metadata": {},
   "outputs": [],
   "source": [
    "clf.fit(X,y)"
   ]
  },
  {
   "cell_type": "code",
   "execution_count": 117,
   "metadata": {},
   "outputs": [
    {
     "data": {
      "text/plain": [
       "array([[ 0.03373278],\n",
       "       [ 0.03373278],\n",
       "       [ 0.03373278],\n",
       "       [ 0.97083048],\n",
       "       [ 0.97083048],\n",
       "       [ 0.97083048]])"
      ]
     },
     "execution_count": 117,
     "metadata": {},
     "output_type": "execute_result"
    }
   ],
   "source": [
    "clf.predict(X)"
   ]
  },
  {
   "cell_type": "code",
   "execution_count": 118,
   "metadata": {},
   "outputs": [
    {
     "data": {
      "image/png": "[encoded data removed]",
      "text/plain": [
       "<matplotlib.figure.Figure at 0x1067132b0>"
      ]
     },
     "metadata": {},
     "output_type": "display_data"
    }
   ],
   "source": [
    "import matplotlib.pyplot as plt\n",
    "plt.plot(clf.cost_history)\n",
    "plt.show()"
   ]
  },
  {
   "cell_type": "code",
   "execution_count": 119,
   "metadata": {},
   "outputs": [
    {
     "data": {
      "text/plain": [
       "array([[  9.99968485e-01],\n",
       "       [  3.66167486e-05]])"
      ]
     },
     "execution_count": 119,
     "metadata": {},
     "output_type": "execute_result"
    }
   ],
   "source": [
    "clf.predict(np.array([\n",
    "    [1,1,1],\n",
    "    [0,0,0]\n",
    "]))"
   ]
  },
  {
   "cell_type": "code",
   "execution_count": null,
   "metadata": {
    "collapsed": true
   },
   "outputs": [],
   "source": []
  }
 ],
 "metadata": {
  "kernelspec": {
   "display_name": "Python 3",
   "language": "python",
   "name": "python3"
  },
  "language_info": {
   "codemirror_mode": {
    "name": "ipython",
    "version": 3
   },
   "file_extension": ".py",
   "mimetype": "text/x-python",
   "name": "python",
   "nbconvert_exporter": "python",
   "pygments_lexer": "ipython3",
   "version": "3.5.1"
  }
 },
 "nbformat": 4,
 "nbformat_minor": 2
}
