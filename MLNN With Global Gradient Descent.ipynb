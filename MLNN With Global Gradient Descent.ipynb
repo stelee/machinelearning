{
 "cells": [
  {
   "cell_type": "markdown",
   "metadata": {},
   "source": [
    "# Multiple Layer Of Neural Network\n",
    "## with global gradient descent"
   ]
  },
  {
   "cell_type": "markdown",
   "metadata": {},
   "source": [
    "In this chapter, I will introduce my own implementation of Multiple Layer of Neural Network with a dumb, simple and quick way."
   ]
  },
  {
   "cell_type": "markdown",
   "metadata": {},
   "source": [
    "First, let's prepare the data."
   ]
  },
  {
   "cell_type": "code",
   "execution_count": 20,
   "metadata": {
    "collapsed": true
   },
   "outputs": [],
   "source": [
    "import numpy as np\n",
    "import copy\n",
    "\n",
    "X = np.array([\n",
    "    [0,0,1],\n",
    "    [0,1,1],\n",
    "    [1,0,1],\n",
    "    [1,1,1]\n",
    "])\n",
    "y =  np.array([\n",
    "    [1],\n",
    "    [0],\n",
    "    [0],\n",
    "    [0]\n",
    "])"
   ]
  },
  {
   "cell_type": "markdown",
   "metadata": {},
   "source": [
    "The idea is: for the input values, if number of zero is more than number of one, it will return one, else, it will return zero.\n",
    "\n",
    "Following is a simple method to build the weights matrix. Let's build a two layer network"
   ]
  },
  {
   "cell_type": "code",
   "execution_count": 21,
   "metadata": {
    "collapsed": true
   },
   "outputs": [],
   "source": [
    "def designWeights(input_n, output_n):\n",
    "    return 2 * np.random.random((output_n, input_n + 1)) -1 #attach the bias input"
   ]
  },
  {
   "cell_type": "code",
   "execution_count": 22,
   "metadata": {
    "collapsed": true
   },
   "outputs": [],
   "source": [
    "weights = np.array([\n",
    "    designWeights(3,3),\n",
    "    designWeights(3,1)\n",
    "])"
   ]
  },
  {
   "cell_type": "code",
   "execution_count": 23,
   "metadata": {
    "collapsed": true
   },
   "outputs": [],
   "source": [
    "m, n = X.shape"
   ]
  },
  {
   "cell_type": "markdown",
   "metadata": {},
   "source": [
    "We still use sigmoid to simulate the prediction. There will be three methods:\n",
    "\n",
    "- sigmoid is the sigmoid method\n",
    "- h_per_layer is the hyperthese method to do the hyperthese for each layer\n",
    "- h is the overall hyperthese method\n"
   ]
  },
  {
   "cell_type": "code",
   "execution_count": 24,
   "metadata": {
    "collapsed": true
   },
   "outputs": [],
   "source": [
    "def sigmoid(X):\n",
    "    return 1/(1+np.exp(-X))\n",
    "def h_per_layer(X,weights, layer_index):\n",
    "    X_ = np.c_[np.ones((X.shape[0],1)), X]\n",
    "    return np.array([sigmoid(X_.dot(weights_per_layer)) for weights_per_layer in weights[layer_index]]).T\n",
    "def h(X,weights):\n",
    "    layer_n = weights.shape[0]\n",
    "    for layer_index in range(layer_n):\n",
    "        X = h_per_layer(X, weights, layer_index)\n",
    "    return X"
   ]
  },
  {
   "cell_type": "code",
   "execution_count": 25,
   "metadata": {
    "collapsed": true
   },
   "outputs": [],
   "source": [
    "def cost(y_, y):\n",
    "    return np.square(y_ - y).sum()"
   ]
  },
  {
   "cell_type": "markdown",
   "metadata": {},
   "source": [
    "If you read some book, you must be very familiar with the term *backpropagation*, which is oftenly used to do the gradien descent. The backpropogation version will be put in aonther blog. Here I am going to do with a global gradient descent. The idea is very simple, first I will implement a simple and dumb method of derivation to get the value of partial derivative for each weight and then will move the weight a little to implement the gradient descent"
   ]
  },
  {
   "cell_type": "code",
   "execution_count": 26,
   "metadata": {
    "collapsed": true
   },
   "outputs": [],
   "source": [
    "def derivation(X, weights, layer_index, weight_output_index, weight_unit_index, original_value):\n",
    "    small_diff = 0.001\n",
    "    weights_new = copy.deepcopy(weights)\n",
    "    weights_new[layer_index][weight_output_index][weight_unit_index]=weights_new[layer_index][weight_output_index][weight_unit_index] + small_diff\n",
    "    y_=  h(X, weights_new)\n",
    "    return (cost(y_, y) -  original_value)/small_diff"
   ]
  },
  {
   "cell_type": "code",
   "execution_count": 27,
   "metadata": {
    "collapsed": true
   },
   "outputs": [],
   "source": [
    "def gradient_descent(X, y, weights):\n",
    "    layer_n =weights.shape[0]\n",
    "    retWeights = copy.deepcopy(weights)\n",
    "    original_cost = cost(h(X, retWeights), y)\n",
    "    learning_rate = 1\n",
    "    for layer_index in range(layer_n):\n",
    "        for output_index, weights_unit  in enumerate(retWeights[layer_index]):\n",
    "            for unit_index, weights_output in enumerate(weights_unit):\n",
    "                diff = derivation(X,weights, layer_index, output_index, unit_index, original_cost)\n",
    "                retWeights[layer_index][output_index][unit_index]=retWeights[layer_index][output_index][unit_index] - learning_rate * diff\n",
    "            \n",
    "    return retWeights, original_cost"
   ]
  },
  {
   "cell_type": "code",
   "execution_count": 28,
   "metadata": {
    "collapsed": true
   },
   "outputs": [],
   "source": [
    "cost_history=[]\n",
    "for i in range(1000):\n",
    "    weights, cost_value = gradient_descent(X, y, weights)\n",
    "    cost_history.append(cost_value)"
   ]
  },
  {
   "cell_type": "code",
   "execution_count": 29,
   "metadata": {},
   "outputs": [
    {
     "data": {
      "text/plain": [
       "array([[ 0.97162344],\n",
       "       [ 0.01545361],\n",
       "       [ 0.01536768],\n",
       "       [ 0.00185797]])"
      ]
     },
     "execution_count": 29,
     "metadata": {},
     "output_type": "execute_result"
    }
   ],
   "source": [
    "h(X,weights)"
   ]
  },
  {
   "cell_type": "code",
   "execution_count": 30,
   "metadata": {},
   "outputs": [
    {
     "data": {
      "image/png": "[encoded data removed]",
      "text/plain": [
       "<matplotlib.figure.Figure at 0x10f503a90>"
      ]
     },
     "metadata": {},
     "output_type": "display_data"
    }
   ],
   "source": [
    "import matplotlib.pyplot as plt\n",
    "plt.plot(cost_history)\n",
    "plt.show()"
   ]
  },
  {
   "cell_type": "markdown",
   "metadata": {
    "collapsed": true
   },
   "source": [
    "You see, it seems to be working very well. Let's try some more test:"
   ]
  },
  {
   "cell_type": "code",
   "execution_count": 31,
   "metadata": {
    "collapsed": true
   },
   "outputs": [],
   "source": [
    "X_test = np.array([\n",
    "    [0,0,0], #=>1\n",
    "    [1,1,0] #=> 0\n",
    "])"
   ]
  },
  {
   "cell_type": "code",
   "execution_count": 32,
   "metadata": {},
   "outputs": [
    {
     "data": {
      "text/plain": [
       "array([[ 0.85315039],\n",
       "       [ 0.00160638]])"
      ]
     },
     "execution_count": 32,
     "metadata": {},
     "output_type": "execute_result"
    }
   ],
   "source": [
    "h(X_test, weights)"
   ]
  },
  {
   "cell_type": "markdown",
   "metadata": {},
   "source": [
    "Research is done, let's wrap up the code and build a better version"
   ]
  },
  {
   "cell_type": "code",
   "execution_count": 33,
   "metadata": {},
   "outputs": [],
   "source": [
    "import numpy as np\n",
    "import copy\n",
    "class MultipleLayerNN():\n",
    "    def __init__(self, training_steps=1000, small_diff_value = 0.001, seed = 1, record_cost_history = False, learning_rate=1, layer_design=[]):\n",
    "        self.training_steps = training_steps\n",
    "        self.small_diff_value =  small_diff_value\n",
    "        self.seed = seed\n",
    "        self.learning_rate = learning_rate\n",
    "        self.record_cost_history = record_cost_history\n",
    "        self.cost_history = []\n",
    "        self.layer_design = layer_design\n",
    "                 \n",
    "    def __designWeights(self, input_n, output_n):\n",
    "        return 2 * np.random.random((output_n, input_n + 1)) -1 #attach the bias input\n",
    "    \n",
    "    def __sigmoid(self, X):\n",
    "        return 1/(1+np.exp(-X))\n",
    "    \n",
    "    def __h_per_layer(self, X,weights, layer_index):\n",
    "        X_ = np.c_[np.ones((X.shape[0],1)), X]\n",
    "        return np.array([self.__sigmoid(X_.dot(weights_per_layer)) for weights_per_layer in weights[layer_index]]).T\n",
    "    \n",
    "    def __h(self, X,weights):\n",
    "        layer_n = weights.shape[0]\n",
    "        for layer_index in range(layer_n):\n",
    "            X = self.__h_per_layer(X, weights, layer_index)\n",
    "        return X\n",
    "    \n",
    "    def __cost(self, y_, y):\n",
    "        return np.square(y_ - y).sum()\n",
    "    \n",
    "    def __derivation(self, X, weights, layer_index, weight_output_index, weight_unit_index, original_value,y):\n",
    "        small_diff = self.small_diff_value\n",
    "        weights_new = copy.deepcopy(weights)\n",
    "        weights_new[layer_index][weight_output_index][weight_unit_index]=weights_new[layer_index][weight_output_index][weight_unit_index] + small_diff\n",
    "        y_=  self.__h(X, weights_new)\n",
    "        return (self.__cost(y_, y) -  original_value)/small_diff\n",
    "    \n",
    "    def __gradient_descent(self, X, y, weights):\n",
    "        layer_n =self.weights_.shape[0]\n",
    "        retWeights = copy.deepcopy(self.weights_)\n",
    "        original_cost = self.__cost(self.__h(X, retWeights), y)\n",
    "        learning_rate = self.learning_rate\n",
    "        for layer_index in range(layer_n):\n",
    "            for output_index, weights_unit  in enumerate(retWeights[layer_index]):\n",
    "                for unit_index, weights_output in enumerate(weights_unit):\n",
    "                    diff = self.__derivation(X,weights, layer_index, output_index, unit_index, original_cost,y)\n",
    "                    retWeights[layer_index][output_index][unit_index]=retWeights[layer_index][output_index][unit_index] - learning_rate * diff\n",
    "\n",
    "        return retWeights, original_cost\n",
    "    \n",
    "    def fit(self, X, y):\n",
    "        np.random.seed(self.seed)\n",
    "        self.weights_ = np.array([self.__designWeights(*layer) for layer in self.layer_design])\n",
    "        for i in range(1000):\n",
    "            self.weights_, cost_value = self.__gradient_descent(X, y, self.weights_)\n",
    "            if self.record_cost_history:\n",
    "                self.cost_history.append(cost_value)\n",
    "    def predict(self, X):\n",
    "        return self.__h(X, self.weights_)"
   ]
  },
  {
   "cell_type": "markdown",
   "metadata": {},
   "source": [
    "This will be a new values to train. The logic will be:\n",
    "\n",
    "> from left to right, will do a XOR operation (a, b, c, d) => a ^ b ^ c ^ d\n"
   ]
  },
  {
   "cell_type": "code",
   "execution_count": 36,
   "metadata": {},
   "outputs": [],
   "source": [
    "clf = MultipleLayerNN(record_cost_history=True, layer_design=[(3,3),(3,1)])\n",
    "clf.fit(X,y)"
   ]
  },
  {
   "cell_type": "code",
   "execution_count": 37,
   "metadata": {},
   "outputs": [
    {
     "data": {
      "image/png": "[encoded data removed]",
      "text/plain": [
       "<matplotlib.figure.Figure at 0x10f555470>"
      ]
     },
     "metadata": {},
     "output_type": "display_data"
    }
   ],
   "source": [
    "import matplotlib.pyplot as plt\n",
    "plt.plot(clf.cost_history)\n",
    "plt.show()"
   ]
  },
  {
   "cell_type": "markdown",
   "metadata": {},
   "source": [
    "It is working!"
   ]
  }
 ],
 "metadata": {
  "kernelspec": {
   "display_name": "Python 3",
   "language": "python",
   "name": "python3"
  },
  "language_info": {
   "codemirror_mode": {
    "name": "ipython",
    "version": 3
   },
   "file_extension": ".py",
   "mimetype": "text/x-python",
   "name": "python",
   "nbconvert_exporter": "python",
   "pygments_lexer": "ipython3",
   "version": "3.5.1"
  }
 },
 "nbformat": 4,
 "nbformat_minor": 2
}
