{
 "cells": [
  {
   "cell_type": "markdown",
   "metadata": {},
   "source": [
    "# Multiple Layer Of Neural Network\n",
    "## with global gradient descent"
   ]
  },
  {
   "cell_type": "markdown",
   "metadata": {},
   "source": [
    "In this chapter, I will introduce my own implementation of Multiple Layer of Neural Network with a dumb, simple and quick way."
   ]
  },
  {
   "cell_type": "markdown",
   "metadata": {},
   "source": [
    "First, let's prepare the data."
   ]
  },
  {
   "cell_type": "code",
   "execution_count": 26,
   "metadata": {},
   "outputs": [],
   "source": [
    "import numpy as np\n",
    "import copy\n",
    "\n",
    "X = np.array([\n",
    "    [0,0,1],\n",
    "    [0,1,1],\n",
    "    [1,0,1],\n",
    "    [1,1,1]\n",
    "])\n",
    "y =  np.array([\n",
    "    [1],\n",
    "    [0],\n",
    "    [0],\n",
    "    [0]\n",
    "])"
   ]
  },
  {
   "cell_type": "markdown",
   "metadata": {},
   "source": [
    "The idea is: for the input values, if number of zero is more than number of one, it will return one, else, it will return zero.\n",
    "\n",
    "Following is a simple method to build the weights matrix. Let's build a two layer network"
   ]
  },
  {
   "cell_type": "code",
   "execution_count": 27,
   "metadata": {
    "collapsed": true
   },
   "outputs": [],
   "source": [
    "def designWeights(input_n, output_n):\n",
    "    return 2 * np.random.random((output_n, input_n + 1)) -1 #attach the bias input"
   ]
  },
  {
   "cell_type": "code",
   "execution_count": 28,
   "metadata": {},
   "outputs": [],
   "source": [
    "weights = np.array([\n",
    "    designWeights(3,3),\n",
    "    designWeights(3,1)\n",
    "])"
   ]
  },
  {
   "cell_type": "code",
   "execution_count": 29,
   "metadata": {
    "collapsed": true
   },
   "outputs": [],
   "source": [
    "m, n = X.shape"
   ]
  },
  {
   "cell_type": "code",
   "execution_count": 30,
   "metadata": {
    "collapsed": true
   },
   "outputs": [],
   "source": [
    "def sigmoid(X):\n",
    "    return 1/(1+np.exp(-X))\n",
    "def h_per_layer(X,weights, layer_index):\n",
    "    X_ = np.c_[np.ones((m,1)), X]\n",
    "    return np.array([sigmoid(X_.dot(weights_per_layer)) for weights_per_layer in weights[layer_index]]).T\n",
    "def h(X,weights):\n",
    "    layer_n = weights.shape[0]\n",
    "    for layer_index in range(layer_n):\n",
    "        X = h_per_layer(X, weights, layer_index)\n",
    "    return X"
   ]
  },
  {
   "cell_type": "code",
   "execution_count": 31,
   "metadata": {
    "collapsed": true
   },
   "outputs": [],
   "source": [
    "def cost(y_, y):\n",
    "    return np.square(y_ - y).sum()"
   ]
  },
  {
   "cell_type": "code",
   "execution_count": 32,
   "metadata": {
    "collapsed": true
   },
   "outputs": [],
   "source": [
    "def derivation(X, weights, layer_index, weight_output_index, weight_unit_index, original_value):\n",
    "    small_diff = 0.001\n",
    "    weights_new = copy.deepcopy(weights)\n",
    "    weights_new[layer_index][weight_output_index][weight_unit_index]=weights_new[layer_index][weight_output_index][weight_unit_index] + small_diff\n",
    "    y_=  h(X, weights_new)\n",
    "    return (cost(y_, y) -  original_value)/small_diff"
   ]
  },
  {
   "cell_type": "code",
   "execution_count": 33,
   "metadata": {},
   "outputs": [],
   "source": [
    "def gradient_descent(X, y, weights):\n",
    "    layer_n =weights.shape[0]\n",
    "    retWeights = copy.deepcopy(weights)\n",
    "    original_cost = cost(h(X, retWeights), y)\n",
    "    learning_rate = 1\n",
    "    for layer_index in range(layer_n):\n",
    "        for output_index, weights_unit  in enumerate(retWeights[layer_index]):\n",
    "            for unit_index, weights_output in enumerate(weights_unit):\n",
    "                diff = derivation(X,weights, layer_index, output_index, unit_index, original_cost)\n",
    "                retWeights[layer_index][output_index][unit_index]=retWeights[layer_index][output_index][unit_index] - learning_rate * diff\n",
    "            \n",
    "    return retWeights, original_cost"
   ]
  },
  {
   "cell_type": "code",
   "execution_count": 34,
   "metadata": {},
   "outputs": [],
   "source": [
    "cost_history=[]\n",
    "for i in range(1000):\n",
    "    weights, cost_value = gradient_descent(X, y, weights)\n",
    "    cost_history.append(cost_value)"
   ]
  },
  {
   "cell_type": "code",
   "execution_count": 35,
   "metadata": {},
   "outputs": [
    {
     "data": {
      "text/plain": [
       "array([[ 0.97970297],\n",
       "       [ 0.01372732],\n",
       "       [ 0.01389405],\n",
       "       [ 0.00241994]])"
      ]
     },
     "execution_count": 35,
     "metadata": {},
     "output_type": "execute_result"
    }
   ],
   "source": [
    "h(X,weights)"
   ]
  },
  {
   "cell_type": "code",
   "execution_count": 36,
   "metadata": {},
   "outputs": [
    {
     "data": {
      "image/png": "[encoded data removed]",
      "text/plain": [
       "<matplotlib.figure.Figure at 0x1061c6400>"
      ]
     },
     "metadata": {},
     "output_type": "display_data"
    }
   ],
   "source": [
    "import matplotlib.pyplot as plt\n",
    "plt.plot(cost_history)\n",
    "plt.show()"
   ]
  },
  {
   "cell_type": "code",
   "execution_count": null,
   "metadata": {
    "collapsed": true
   },
   "outputs": [],
   "source": []
  }
 ],
 "metadata": {
  "kernelspec": {
   "display_name": "Python 3",
   "language": "python",
   "name": "python3"
  },
  "language_info": {
   "codemirror_mode": {
    "name": "ipython",
    "version": 3
   },
   "file_extension": ".py",
   "mimetype": "text/x-python",
   "name": "python",
   "nbconvert_exporter": "python",
   "pygments_lexer": "ipython3",
   "version": "3.5.1"
  }
 },
 "nbformat": 4,
 "nbformat_minor": 2
}
